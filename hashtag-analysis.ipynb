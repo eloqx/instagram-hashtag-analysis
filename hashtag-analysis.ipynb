{
 "cells": [
  {
   "cell_type": "code",
   "execution_count": 2,
   "metadata": {},
   "outputs": [],
   "source": [
    "from selenium import webdriver\n",
    "from bs4 import BeautifulSoup\n",
    "import pandas as pd\n",
    "import datetime"
   ]
  },
  {
   "cell_type": "code",
   "execution_count": 4,
   "metadata": {},
   "outputs": [
    {
     "name": "stdout",
     "output_type": "stream",
     "text": [
      "Trying to download new driver from http://chromedriver.storage.googleapis.com/80.0.3987.106/chromedriver_win32.zip\n",
      "Unpack archive C:\\Users\\Madik\\.wdm\\drivers\\chromedriver\\80.0.3987.106\\win32\\chromedriver.zip\n"
     ]
    }
   ],
   "source": [
    "from webdriver_manager.chrome import ChromeDriverManager\n",
    "driver = webdriver.Chrome(ChromeDriverManager().install())"
   ]
  },
  {
   "cell_type": "code",
   "execution_count": 6,
   "metadata": {},
   "outputs": [
    {
     "name": "stdout",
     "output_type": "stream",
     "text": [
      "['dancer', 'dance', 'music', 'dancelove', 'dancing', 'dancers', 'dancevideo', 'dancepage', 'challenge', 'explore', 'choreography', 'hiphop', 'dancehiphop', 'dancelife', 'danceforlife', 'joshkillacky', 'mattsteffanina', 'seanandkaycee', 'trending', 'dytto', 'baileysok', 'worldofdance', '18yearsold', 'dancesport', 'immabeast', 'millenium', 'joshbeauchamp', 'gabedeguzman', 'jadebug98']\n"
     ]
    }
   ],
   "source": [
    "# Extract description of a post from Instagram link\n",
    "driver.get('https://www.instagram.com/p/B8gu8PZBDSY/')\n",
    "soup = BeautifulSoup(driver.page_source,\"lxml\")\n",
    "desc = \" \"\n",
    " \n",
    "for item in soup.findAll('a'):\n",
    "    desc= desc + \" \" + str(item.string)\n",
    " \n",
    "# Extract tag list from Instagram post description\n",
    "taglist = desc.split()\n",
    "taglist = [x for x in taglist if x.startswith('#')]\n",
    "index = 0\n",
    "while index < len(taglist):\n",
    "    taglist[index] = taglist[index].strip('#')\n",
    "    index += 1\n",
    " \n",
    "print(taglist)"
   ]
  },
  {
   "cell_type": "code",
   "execution_count": 7,
   "metadata": {},
   "outputs": [
    {
     "name": "stdout",
     "output_type": "stream",
     "text": [
      "           Hashtag Number of Posts Posting Freq (mins)\n",
      "0           dancer      27 627 882                   0\n",
      "1            dance      96 356 854                   0\n",
      "2            music     298 577 445                   0\n",
      "3        dancelove         660 348                   0\n",
      "4          dancing      18 742 417                   0\n",
      "5          dancers      11 412 330                   0\n",
      "6       dancevideo       1 266 957                   0\n",
      "7        dancepage          18 909                   0\n",
      "8        challenge      16 448 075                   0\n",
      "9          explore     112 793 690                   0\n",
      "10    choreography       4 889 600                   0\n",
      "11          hiphop      78 063 307                   0\n",
      "12     dancehiphop          31 444                   0\n",
      "13       dancelife       5 404 056                   0\n",
      "14    danceforlife         343 322                   0\n",
      "15    joshkillacky           9 780                   0\n",
      "16  mattsteffanina          71 825                   0\n",
      "17   seanandkaycee          40 836                   0\n",
      "18        trending      29 520 396                   0\n",
      "19           dytto          98 670                   0\n",
      "20       baileysok          43 046                   0\n",
      "21    worldofdance         747 316                   0\n",
      "22      18yearsold         280 576                   0\n",
      "23      dancesport         601 301                   0\n",
      "24       immabeast          91 142                   0\n",
      "25       millenium         224 215                   0\n",
      "26   joshbeauchamp         451 407                   0\n",
      "27    gabedeguzman          16 610                   0\n",
      "28       jadebug98          19 061                   0\n"
     ]
    }
   ],
   "source": [
    "# Define dataframe to store hashtag information\n",
    "tag_df  = pd.DataFrame(columns = ['Hashtag', 'Number of Posts','Posting Freq (mins)'])\n",
    " \n",
    "# Loop over each hashtag to extract information\n",
    "for tag in taglist:\n",
    "     \n",
    "    driver.get('https://www.instagram.com/explore/tags/'+str(tag))\n",
    "    soup = BeautifulSoup(driver.page_source,\"lxml\")\n",
    "     \n",
    "    # Extract current hashtag name\n",
    "    tagname = tag\n",
    "    # Extract total number of posts in this hashtag\n",
    "    # NOTE: Class name may change in the website code\n",
    "    # Get the latest class name by inspecting web code\n",
    "    try:\n",
    "        nposts = soup.find('span', {'class': 'g47SY'}).get_text()\n",
    "    except AttributeError:\n",
    "        print(\"ok\")\n",
    "         \n",
    "    # Extract all post links from 'explore tags' page\n",
    "    # Needed to extract post frequency of recent posts\n",
    "    myli = []\n",
    "    for a in soup.find_all('a', href=True):\n",
    "        myli.append(a['href'])\n",
    " \n",
    "    # Keep link of only 1st and 9th most recent post \n",
    "    newmyli = [x for x in myli if x.startswith('/p/')]\n",
    "    del newmyli[:9]\n",
    "    del newmyli[9:]\n",
    "    del newmyli[1:8]\n",
    "    \n",
    "    timediff = []\n",
    " \n",
    "    # Extract the posting time of 1st and 9th most recent post for a tag\n",
    "    for j in range(len(newmyli)):\n",
    "        driver.get('https://www.instagram.com'+str(newmyli[j]))\n",
    "        soup = BeautifulSoup(driver.page_source,\"lxml\")\n",
    " \n",
    "        for i in soup.findAll('time'):\n",
    "            if i.has_attr('datetime'):\n",
    "                timediff.append(i['datetime'])\n",
    "                #print(timediff)\n",
    "                \n",
    "        # Calculate time difference between posts\n",
    "        # For obtaining posting frequency\n",
    "        datetimeFormat = '%Y-%m-%dT%H:%M:%S.%fZ'\n",
    "        date1 = timediff[1]\n",
    "        date2 = timediff[0]\n",
    "        diff = datetime.datetime.strptime(date1, datetimeFormat)\\\n",
    "        - datetime.datetime.strptime(date2, datetimeFormat)\n",
    "        pfreq= int(diff.total_seconds()/(9*60))\n",
    "\n",
    "     \n",
    "    # Add hashtag info to dataframe\n",
    "    tag_df.loc[len(tag_df)] = [tagname, nposts,pfreq]\n",
    "    \n",
    "# Check the final dataframe\n",
    "print(tag_df)\n",
    " \n",
    "# CSV output for hashtag analysis\n",
    "tag_df.to_csv('hashtag_list.csv')"
   ]
  },
  {
   "cell_type": "code",
   "execution_count": null,
   "metadata": {},
   "outputs": [],
   "source": []
  }
 ],
 "metadata": {
  "kernelspec": {
   "display_name": "Python 3",
   "language": "python",
   "name": "python3"
  },
  "language_info": {
   "codemirror_mode": {
    "name": "ipython",
    "version": 3
   },
   "file_extension": ".py",
   "mimetype": "text/x-python",
   "name": "python",
   "nbconvert_exporter": "python",
   "pygments_lexer": "ipython3",
   "version": "3.7.4"
  }
 },
 "nbformat": 4,
 "nbformat_minor": 2
}
